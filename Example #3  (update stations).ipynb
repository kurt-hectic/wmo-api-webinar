{
 "cells": [
  {
   "cell_type": "markdown",
   "metadata": {},
   "source": [
    "Updating stations in OSCAR/Surface\n",
    "---\n",
    "> **Example #3:** We will update the schedules of German stations. We want to update stations that only have a _30 min reporting interval_ . Their reporting interval  should be changed to 1h and the international exchange flag set to _true_. In case there is no information on start and endtime of the schedule, set it to correspond to a 7/24 schedule.\n",
    "\n",
    "***Note***: we limit ourselves to observations tracked by WDMQS for the purpose of this exercise. We thus look for **ongoing** observations of _pressure, temperature, wind_ and _humidity_ at stations.\n",
    "\n",
    "\n"
   ]
  },
  {
   "cell_type": "code",
   "execution_count": 1,
   "metadata": {},
   "outputs": [],
   "source": [
    "import json\n",
    "import sys\n",
    "import logging\n",
    "logging.basicConfig(level=logging.INFO)\n",
    "\n",
    "from oscar_lib import OscarClient, extractSchedules, Station\n",
    "\n",
    "wdqms_variables = [216,210,224,251,309,12005,12006] # pressure,precipitation,temperature,humidity,wind deprecated, wind speed, wind direction"
   ]
  },
  {
   "cell_type": "code",
   "execution_count": 2,
   "metadata": {},
   "outputs": [
    {
     "name": "stderr",
     "output_type": "stream",
     "text": [
      "WARNING:oscar_lib.oscar_client:deprecated: use oscar_search instead\n",
      "INFO:oscar_lib.oscar_client:searching for {'territoryName': 'DEU', 'facilityType': 'landFixed'} at https://oscardepl.wmo.int/surface//rest/api/search/station\n"
     ]
    }
   ],
   "source": [
    "client = OscarClient(oscar_url = OscarClient.OSCAR_DEPL, token=\"changeMe\")\n",
    "stations=client.oscarSearch({'territoryName':'DEU', 'facilityType':'landFixed'})"
   ]
  },
  {
   "cell_type": "code",
   "execution_count": 3,
   "metadata": {},
   "outputs": [
    {
     "data": {
      "text/plain": [
       "{'id': 12494,\n",
       " 'name': 'FILCHNER',\n",
       " 'region': 'Antarctica',\n",
       " 'territory': 'Germany',\n",
       " 'declaredStatus': 'Operational',\n",
       " 'latitude': -80.43681,\n",
       " 'longitude': -44.43199,\n",
       " 'elevation': 103,\n",
       " 'stationTypeName': 'Land (fixed)',\n",
       " 'wigosStationIdentifiers': [{'wigosStationIdentifier': '0-20000-0-89047',\n",
       "   'primary': True}],\n",
       " 'wigosId': '0-20000-0-89047',\n",
       " 'stationTypeId': 1,\n",
       " 'dateEstablished': '2016-01-14T23:00:00.000+00:00',\n",
       " 'stationStatusCode': 'operational',\n",
       " 'stationTypeCode': 'landOceanSurface',\n",
       " 'stationProgramsDeclaredStatuses': 'GOS:Operational'}"
      ]
     },
     "execution_count": 3,
     "metadata": {},
     "output_type": "execute_result"
    }
   ],
   "source": [
    "# print out the first search result\n",
    "stations[\"data\"][0] "
   ]
  },
  {
   "cell_type": "code",
   "execution_count": 4,
   "metadata": {},
   "outputs": [
    {
     "data": {
      "text/plain": [
       "['0-20000-0-89047',\n",
       " '0-20000-0-89003',\n",
       " '0-20000-0-89002',\n",
       " '0-20008-0-NMY',\n",
       " '0-20000-0-89011']"
      ]
     },
     "execution_count": 4,
     "metadata": {},
     "output_type": "execute_result"
    }
   ],
   "source": [
    "# collect primary wigos ids from search result. \n",
    "# Need to loop through search result and potential multiple wigos ids to find the primary one\n",
    "german_station_wigosids = [ wid[\"wigosStationIdentifier\"] for station in stations[\"data\"] for wid in station[\"wigosStationIdentifiers\"] if wid[\"primary\"] ]\n",
    "\n",
    "#print out first 5 entries\n",
    "german_station_wigosids[0:5]"
   ]
  },
  {
   "cell_type": "code",
   "execution_count": 5,
   "metadata": {},
   "outputs": [
    {
     "name": "stdout",
     "output_type": "stream",
     "text": [
      "loading  0-20000-0-89047\n",
      "loading  0-20000-0-89003\n",
      "loading  0-20000-0-89002\n",
      "loading  0-20008-0-NMY\n",
      "loading  0-20000-0-89011\n",
      "loading  0-20000-0-10505\n",
      "loading  0-20000-0-10309\n",
      "loading  0-20000-0-10442\n",
      "loading  0-20000-0-10954\n",
      "loading  0-20000-0-10520\n"
     ]
    }
   ],
   "source": [
    "limit=10\n",
    "station_map = {}\n",
    "for wigos_id in german_station_wigosids[0:min(limit,len(german_station_wigosids))]:\n",
    "    try:\n",
    "        print(\"loading \",wigos_id)\n",
    "        myxml = client.load_station(wigos_id=wigos_id)\n",
    "        s = Station(myxml)\n",
    "        \n",
    "        if \"20008\" in wigos_id: # ignore GAWSIS stations\n",
    "            continue\n",
    "        \n",
    "        # check if the station has at least one ongoing 30 min schedule (for WDQMS relevant variables)\n",
    "        schedules = s.current_schedules(variables=wdqms_variables)\n",
    "\n",
    "        # loop through nested datastructure and check if interval is 30min\n",
    "        intervals = [ dg[\"schedule\"][\"interval\"] == \"PT30M\" for o in schedules.values() for d in o[\"deployments\"] for dg in d[\"datagenerations\"] ]\n",
    "\n",
    "        if True or any(intervals): # we consider the station as long as there is one 30min schedule\n",
    "            station_map[wigos_id]=s\n",
    "        else:\n",
    "            print(wigos_id,\"has no 30 min schedule\")\n",
    "    \n",
    "    except Exception as e:\n",
    "        print(\"error loading station {} {}\".format(wigos_id,str(e)))\n"
   ]
  },
  {
   "cell_type": "markdown",
   "metadata": {},
   "source": [
    "Output a schedule of a station. 251 stands for [humidity](https://codes.wmo.int/wmdr/ObservedVariableAtmosphere/_251)"
   ]
  },
  {
   "cell_type": "code",
   "execution_count": 6,
   "metadata": {},
   "outputs": [
    {
     "name": "stdout",
     "output_type": "stream",
     "text": [
      "{\n",
      " \"gid\": null,\n",
      " \"variableid\": \"http://codes.wmo.int/wmdr/ObservedVariableAtmosphere/251\",\n",
      " \"deployments\": [\n",
      "  {\n",
      "   \"gid\": \"id_0c244c02-3db2-40b2-a2fa-94503e59ee58\",\n",
      "   \"from\": \"2016-04-29T00:00:00Z\",\n",
      "   \"to\": null,\n",
      "   \"datagenerations\": [\n",
      "    {\n",
      "     \"gid\": \"id_bc41c15c-0697-44a5-8430-99fc866c40e0\",\n",
      "     \"schedule\": {\n",
      "      \"from\": \"2016-04-29T00:00:00Z\",\n",
      "      \"to\": null,\n",
      "      \"startMonth\": 1,\n",
      "      \"endMonth\": 12,\n",
      "      \"startWeekday\": 1,\n",
      "      \"endWeekday\": 7,\n",
      "      \"startHour\": 0,\n",
      "      \"endHour\": 23,\n",
      "      \"startMinute\": 0,\n",
      "      \"endMinute\": 59,\n",
      "      \"interval\": 3600,\n",
      "      \"international\": true\n",
      "     }\n",
      "    }\n",
      "   ]\n",
      "  }\n",
      " ]\n",
      "}\n"
     ]
    }
   ],
   "source": [
    "# output a schedule of a station. 251 is \n",
    "print(json.dumps(list(station_map.values())[0].current_schedules()[251],indent=1))"
   ]
  },
  {
   "cell_type": "markdown",
   "metadata": {},
   "source": [
    "### update strategy: \n",
    " 1. set 1h international 7/24 schedule for \"ongoing\" schedules. \n",
    " 2. other schedules will be merged with the same 1h international 7/24 schedule, preserving the elements present in the original schedule\n",
    "\n"
   ]
  },
  {
   "cell_type": "code",
   "execution_count": 7,
   "metadata": {},
   "outputs": [],
   "source": [
    "defaultSchedule = { \n",
    "    \"from\": \"2016-04-28T00:00:00Z\", \"to\" : None,     \n",
    "    \"startMonth\": 1,\"endMonth\": 12,\n",
    "    \"startWeekday\": 1, \"endWeekday\": 7,\n",
    "    \"startHour\": 0, \"startMinute\": 0,          \n",
    "    \"endHour\": 23,    \"endMinute\": 59,\n",
    "    \"interval\": 60*60,     \"international\": True   \n",
    "}\n"
   ]
  },
  {
   "cell_type": "code",
   "execution_count": 8,
   "metadata": {},
   "outputs": [
    {
     "name": "stderr",
     "output_type": "stream",
     "text": [
      "WARNING:oscar_lib.oscar_client:deprecated: use upload_XML instead\n"
     ]
    },
    {
     "name": "stdout",
     "output_type": "stream",
     "text": [
      "updating station 0-20000-0-89047\n",
      "validates ok\n"
     ]
    },
    {
     "name": "stderr",
     "output_type": "stream",
     "text": [
      "INFO:oscar_lib.oscar_client:upload ok, new id 196351 The list below is organized by section header and shows exceptions/issues – if any – that may have resulted from the processing of the XML (NB: Section headers are always displayed).\n",
      "# Facility with identifier \"0-20000-0-89047\"\n",
      "REF_6: No value found for the element \"Equipment/geospatialLocation/../beginPosition\". Information for this item is discarded.\n",
      "REF_6: No value found for the element \"Equipment/geospatialLocation/../beginPosition\". Information for this item is discarded.\n",
      "REF_6: No value found for the element \"Equipment/geospatialLocation/../beginPosition\". Information for this item is discarded.\n",
      "REF_6: No value found for the element \"Equipment/geospatialLocation/../beginPosition\". Information for this item is discarded.\n",
      "\n",
      "INFO:oscar_lib.oscar_client:status: VALID_XML_WITH_ERRORS_OR_WARNINGS message: upload ok, new id 196351 The list below is organized by section header and shows exceptions/issues – if any – that may have resulted from the processing of the XML (NB: Section headers are always displayed).\n",
      "# Facility with identifier \"0-20000-0-89047\"\n",
      "REF_6: No value found for the element \"Equipment/geospatialLocation/../beginPosition\". Information for this item is discarded.\n",
      "REF_6: No value found for the element \"Equipment/geospatialLocation/../beginPosition\". Information for this item is discarded.\n",
      "REF_6: No value found for the element \"Equipment/geospatialLocation/../beginPosition\". Information for this item is discarded.\n",
      "REF_6: No value found for the element \"Equipment/geospatialLocation/../beginPosition\". Information for this item is discarded.\n",
      " \n",
      "WARNING:oscar_lib.oscar_client:deprecated: use upload_XML instead\n"
     ]
    },
    {
     "name": "stdout",
     "output_type": "stream",
     "text": [
      "station could not be saved: error saving original XML (VALID_XML_WITH_ERRORS_OR_WARNINGS)\n",
      "updating station 0-20000-0-89003\n",
      "validates ok\n"
     ]
    },
    {
     "name": "stderr",
     "output_type": "stream",
     "text": [
      "INFO:oscar_lib.oscar_client:upload ok, new id 196352 The list below is organized by section header and shows exceptions/issues – if any – that may have resulted from the processing of the XML (NB: Section headers are always displayed).\n",
      "# Facility with identifier \"0-20000-0-89003\"\n",
      "REF_4: The alias \"HALVFARRYGGEN EP11\" is already assigned to this station . This alias is discarded.\n",
      "REF_6: No value found for the element \"Equipment/geospatialLocation/../beginPosition\". Information for this item is discarded.\n",
      "REF_9: A mandatory element is not provided. The \"Equipment/geospatialLocation/Point/pos\" is discarded.\n",
      "REF_9: A mandatory element is not provided. The \"Equipment/geospatialLocation/Point/pos\" is discarded.\n",
      "REF_9: A mandatory element is not provided. The \"Equipment/geospatialLocation/Point/pos\" is discarded.\n",
      "\n",
      "INFO:oscar_lib.oscar_client:status: VALID_XML_WITH_ERRORS_OR_WARNINGS message: upload ok, new id 196352 The list below is organized by section header and shows exceptions/issues – if any – that may have resulted from the processing of the XML (NB: Section headers are always displayed).\n",
      "# Facility with identifier \"0-20000-0-89003\"\n",
      "REF_4: The alias \"HALVFARRYGGEN EP11\" is already assigned to this station . This alias is discarded.\n",
      "REF_6: No value found for the element \"Equipment/geospatialLocation/../beginPosition\". Information for this item is discarded.\n",
      "REF_9: A mandatory element is not provided. The \"Equipment/geospatialLocation/Point/pos\" is discarded.\n",
      "REF_9: A mandatory element is not provided. The \"Equipment/geospatialLocation/Point/pos\" is discarded.\n",
      "REF_9: A mandatory element is not provided. The \"Equipment/geospatialLocation/Point/pos\" is discarded.\n",
      " \n",
      "WARNING:oscar_lib.oscar_client:deprecated: use upload_XML instead\n"
     ]
    },
    {
     "name": "stdout",
     "output_type": "stream",
     "text": [
      "station could not be saved: error saving original XML (VALID_XML_WITH_ERRORS_OR_WARNINGS)\n",
      "updating station 0-20000-0-89002\n",
      "validates ok\n"
     ]
    },
    {
     "name": "stderr",
     "output_type": "stream",
     "text": [
      "INFO:oscar_lib.oscar_client:upload failed with status: REJECTED the log is The list below is organized by section header and shows exceptions/issues – if any – that may have resulted from the processing of the XML (NB: Section headers are always displayed).\n",
      "REF_2: No inserts or updates have been made by the received XML: before resubmitting the file please read and then remove this comment at the top of the XML: \"The element wmdr:internationalExchange has been exported as 'false' (real value is 'null'). Before resubmitting this XML please remove this comment and review the value of wmdr:internationalExchange under wmdr:DataGeneration with gml:id id_81a5c087-bb61-4985-a1fe-410127f2e354, id_ba91b89d-fbdc-437b-b13b-4fe152f1b5d5, id_b074e82c-13ac-7937-e053-148ef98d6de4, id_ddb4eae1-3a55-4a71-a4e5-c647d8b3ed73, id_b074e82c-13aa-7937-e053-148ef98d6de4, id_b074e82c-13ab-7937-e053-148ef98d6de4, id_b074e82c-13ad-7937-e053-148ef98d6de4, id_b074e82c-13ae-7937-e053-148ef98d6de4, id_b074e82c-13a9-7937-e053-148ef98d6de4. Alternatively, insert the missing values directly from the user interface and export the updated station as WMDR XML.\"\n",
      "\n",
      "INFO:oscar_lib.oscar_client:status: REJECTED message: upload failed with status: REJECTED the log is The list below is organized by section header and shows exceptions/issues – if any – that may have resulted from the processing of the XML (NB: Section headers are always displayed).\n",
      "REF_2: No inserts or updates have been made by the received XML: before resubmitting the file please read and then remove this comment at the top of the XML: \"The element wmdr:internationalExchange has been exported as 'false' (real value is 'null'). Before resubmitting this XML please remove this comment and review the value of wmdr:internationalExchange under wmdr:DataGeneration with gml:id id_81a5c087-bb61-4985-a1fe-410127f2e354, id_ba91b89d-fbdc-437b-b13b-4fe152f1b5d5, id_b074e82c-13ac-7937-e053-148ef98d6de4, id_ddb4eae1-3a55-4a71-a4e5-c647d8b3ed73, id_b074e82c-13aa-7937-e053-148ef98d6de4, id_b074e82c-13ab-7937-e053-148ef98d6de4, id_b074e82c-13ad-7937-e053-148ef98d6de4, id_b074e82c-13ae-7937-e053-148ef98d6de4, id_b074e82c-13a9-7937-e053-148ef98d6de4. Alternatively, insert the missing values directly from the user interface and export the updated station as WMDR XML.\"\n",
      " \n",
      "WARNING:oscar_lib.oscar_client:deprecated: use upload_XML instead\n"
     ]
    },
    {
     "name": "stdout",
     "output_type": "stream",
     "text": [
      "station could not be saved: error saving original XML (REJECTED)\n",
      "updating station 0-20000-0-89011\n",
      "validates ok\n"
     ]
    },
    {
     "name": "stderr",
     "output_type": "stream",
     "text": [
      "INFO:oscar_lib.oscar_client:upload failed with status: REJECTED the log is The list below is organized by section header and shows exceptions/issues – if any – that may have resulted from the processing of the XML (NB: Section headers are always displayed).\n",
      "REF_2: No inserts or updates have been made by the received XML: before resubmitting the file please read and then remove this comment at the top of the XML: \"The element wmdr:internationalExchange has been exported as 'false' (real value is 'null'). Before resubmitting this XML please remove this comment and review the value of wmdr:internationalExchange under wmdr:DataGeneration with gml:id id_b074e82c-144b-7937-e053-148ef98d6de4. Alternatively, insert the missing values directly from the user interface and export the updated station as WMDR XML.\"\n",
      "\n",
      "INFO:oscar_lib.oscar_client:status: REJECTED message: upload failed with status: REJECTED the log is The list below is organized by section header and shows exceptions/issues – if any – that may have resulted from the processing of the XML (NB: Section headers are always displayed).\n",
      "REF_2: No inserts or updates have been made by the received XML: before resubmitting the file please read and then remove this comment at the top of the XML: \"The element wmdr:internationalExchange has been exported as 'false' (real value is 'null'). Before resubmitting this XML please remove this comment and review the value of wmdr:internationalExchange under wmdr:DataGeneration with gml:id id_b074e82c-144b-7937-e053-148ef98d6de4. Alternatively, insert the missing values directly from the user interface and export the updated station as WMDR XML.\"\n",
      " \n",
      "WARNING:oscar_lib.oscar_client:deprecated: use upload_XML instead\n"
     ]
    },
    {
     "name": "stdout",
     "output_type": "stream",
     "text": [
      "station could not be saved: error saving original XML (REJECTED)\n",
      "updating station 0-20000-0-10505\n",
      "validates ok\n"
     ]
    },
    {
     "name": "stderr",
     "output_type": "stream",
     "text": [
      "INFO:oscar_lib.oscar_client:upload ok, new id 196355 \n",
      "INFO:oscar_lib.oscar_client:status: SUCCESS message: upload ok, new id 196355  \n",
      "INFO:oscar_lib.oscar_client:upload ok, new id 196356 The list below is organized by section header and shows exceptions/issues – if any – that may have resulted from the processing of the XML (NB: Section headers are always displayed).\n",
      "# Facility with identifier \"0-20000-0-10505\"\n",
      "REF_3 The element \"Process/deployment/Deployment/validPeriod\" is discarded. Deployment's valid period is filled in based on maximum extent of existing data generations.\n",
      "REF_3 The element \"Process/deployment/Deployment/validPeriod\" is discarded. Deployment's valid period is filled in based on maximum extent of existing data generations.\n",
      "REF_3 The element \"Process/deployment/Deployment/validPeriod\" is discarded. Deployment's valid period is filled in based on maximum extent of existing data generations.\n",
      "REF_3 The element \"Process/deployment/Deployment/validPeriod\" is discarded. Deployment's valid period is filled in based on maximum extent of existing data generations.\n",
      "REF_3 The element \"Process/deployment/Deployment/validPeriod\" is discarded. Deployment's valid period is filled in based on maximum extent of existing data generations.\n",
      "REF_3 The element \"Process/deployment/Deployment/validPeriod\" is discarded. Deployment's valid period is filled in based on maximum extent of existing data generations.\n",
      "REF_3 The element \"Process/deployment/Deployment/validPeriod\" is discarded. Deployment's valid period is filled in based on maximum extent of existing data generations.\n",
      "REF_3 The element \"Process/deployment/Deployment/validPeriod\" is discarded. Deployment's valid period is filled in based on maximum extent of existing data generations.\n",
      "REF_3 The element \"Process/deployment/Deployment/validPeriod\" is discarded. Deployment's valid period is filled in based on maximum extent of existing data generations.\n",
      "REF_3 The element \"Process/deployment/Deployment/validPeriod\" is discarded. Deployment's valid period is filled in based on maximum extent of existing data generations.\n",
      "REF_3 The element \"Process/deployment/Deployment/validPeriod\" is discarded. Deployment's valid period is filled in based on maximum extent of existing data generations.\n",
      "REF_3 The element \"Process/deployment/Deployment/validPeriod\" is discarded. Deployment's valid period is filled in based on maximum extent of existing data generations.\n",
      "REF_3 The element \"Process/deployment/Deployment/validPeriod\" is discarded. Deployment's valid period is filled in based on maximum extent of existing data generations.\n",
      "REF_3 The element \"Process/deployment/Deployment/validPeriod\" is discarded. Deployment's valid period is filled in based on maximum extent of existing data generations.\n",
      "REF_3 The element \"Process/deployment/Deployment/validPeriod\" is discarded. Deployment's valid period is filled in based on maximum extent of existing data generations.\n",
      "REF_3 The element \"Process/deployment/Deployment/validPeriod\" is discarded. Deployment's valid period is filled in based on maximum extent of existing data generations.\n",
      "REF_3 The element \"Process/deployment/Deployment/validPeriod\" is discarded. Deployment's valid period is filled in based on maximum extent of existing data generations.\n",
      "REF_3 The element \"Process/deployment/Deployment/validPeriod\" is discarded. Deployment's valid period is filled in based on maximum extent of existing data generations.\n",
      "REF_3 The element \"Process/deployment/Deployment/validPeriod\" is discarded. Deployment's valid period is filled in based on maximum extent of existing data generations.\n",
      "\n",
      "INFO:oscar_lib.oscar_client:status: VALID_XML_WITH_ERRORS_OR_WARNINGS message: upload ok, new id 196356 The list below is organized by section header and shows exceptions/issues – if any – that may have resulted from the processing of the XML (NB: Section headers are always displayed).\n",
      "# Facility with identifier \"0-20000-0-10505\"\n",
      "REF_3 The element \"Process/deployment/Deployment/validPeriod\" is discarded. Deployment's valid period is filled in based on maximum extent of existing data generations.\n",
      "REF_3 The element \"Process/deployment/Deployment/validPeriod\" is discarded. Deployment's valid period is filled in based on maximum extent of existing data generations.\n",
      "REF_3 The element \"Process/deployment/Deployment/validPeriod\" is discarded. Deployment's valid period is filled in based on maximum extent of existing data generations.\n",
      "REF_3 The element \"Process/deployment/Deployment/validPeriod\" is discarded. Deployment's valid period is filled in based on maximum extent of existing data generations.\n",
      "REF_3 The element \"Process/deployment/Deployment/validPeriod\" is discarded. Deployment's valid period is filled in based on maximum extent of existing data generations.\n",
      "REF_3 The element \"Process/deployment/Deployment/validPeriod\" is discarded. Deployment's valid period is filled in based on maximum extent of existing data generations.\n",
      "REF_3 The element \"Process/deployment/Deployment/validPeriod\" is discarded. Deployment's valid period is filled in based on maximum extent of existing data generations.\n",
      "REF_3 The element \"Process/deployment/Deployment/validPeriod\" is discarded. Deployment's valid period is filled in based on maximum extent of existing data generations.\n",
      "REF_3 The element \"Process/deployment/Deployment/validPeriod\" is discarded. Deployment's valid period is filled in based on maximum extent of existing data generations.\n",
      "REF_3 The element \"Process/deployment/Deployment/validPeriod\" is discarded. Deployment's valid period is filled in based on maximum extent of existing data generations.\n",
      "REF_3 The element \"Process/deployment/Deployment/validPeriod\" is discarded. Deployment's valid period is filled in based on maximum extent of existing data generations.\n",
      "REF_3 The element \"Process/deployment/Deployment/validPeriod\" is discarded. Deployment's valid period is filled in based on maximum extent of existing data generations.\n",
      "REF_3 The element \"Process/deployment/Deployment/validPeriod\" is discarded. Deployment's valid period is filled in based on maximum extent of existing data generations.\n",
      "REF_3 The element \"Process/deployment/Deployment/validPeriod\" is discarded. Deployment's valid period is filled in based on maximum extent of existing data generations.\n",
      "REF_3 The element \"Process/deployment/Deployment/validPeriod\" is discarded. Deployment's valid period is filled in based on maximum extent of existing data generations.\n",
      "REF_3 The element \"Process/deployment/Deployment/validPeriod\" is discarded. Deployment's valid period is filled in based on maximum extent of existing data generations.\n",
      "REF_3 The element \"Process/deployment/Deployment/validPeriod\" is discarded. Deployment's valid period is filled in based on maximum extent of existing data generations.\n",
      "REF_3 The element \"Process/deployment/Deployment/validPeriod\" is discarded. Deployment's valid period is filled in based on maximum extent of existing data generations.\n",
      "REF_3 The element \"Process/deployment/Deployment/validPeriod\" is discarded. Deployment's valid period is filled in based on maximum extent of existing data generations.\n",
      " \n",
      "WARNING:oscar_lib.oscar_client:deprecated: use upload_XML instead\n"
     ]
    },
    {
     "name": "stdout",
     "output_type": "stream",
     "text": [
      "saved 0-20000-0-10505\n",
      "updating station 0-20000-0-10309\n",
      "validates ok\n"
     ]
    },
    {
     "name": "stderr",
     "output_type": "stream",
     "text": [
      "INFO:oscar_lib.oscar_client:upload ok, new id 196357 \n",
      "INFO:oscar_lib.oscar_client:status: SUCCESS message: upload ok, new id 196357  \n",
      "INFO:oscar_lib.oscar_client:upload ok, new id 196358 The list below is organized by section header and shows exceptions/issues – if any – that may have resulted from the processing of the XML (NB: Section headers are always displayed).\n",
      "# Facility with identifier \"0-20000-0-10309\"\n",
      "REF_3 The element \"Process/deployment/Deployment/validPeriod\" is discarded. Deployment's valid period is filled in based on maximum extent of existing data generations.\n",
      "REF_3 The element \"Process/deployment/Deployment/validPeriod\" is discarded. Deployment's valid period is filled in based on maximum extent of existing data generations.\n",
      "REF_3 The element \"Process/deployment/Deployment/validPeriod\" is discarded. Deployment's valid period is filled in based on maximum extent of existing data generations.\n",
      "REF_3 The element \"Process/deployment/Deployment/validPeriod\" is discarded. Deployment's valid period is filled in based on maximum extent of existing data generations.\n",
      "REF_3 The element \"Process/deployment/Deployment/validPeriod\" is discarded. Deployment's valid period is filled in based on maximum extent of existing data generations.\n",
      "REF_3 The element \"Process/deployment/Deployment/validPeriod\" is discarded. Deployment's valid period is filled in based on maximum extent of existing data generations.\n",
      "REF_3 The element \"Process/deployment/Deployment/validPeriod\" is discarded. Deployment's valid period is filled in based on maximum extent of existing data generations.\n",
      "REF_3 The element \"Process/deployment/Deployment/validPeriod\" is discarded. Deployment's valid period is filled in based on maximum extent of existing data generations.\n",
      "REF_3 The element \"Process/deployment/Deployment/validPeriod\" is discarded. Deployment's valid period is filled in based on maximum extent of existing data generations.\n",
      "REF_3 The element \"Process/deployment/Deployment/validPeriod\" is discarded. Deployment's valid period is filled in based on maximum extent of existing data generations.\n",
      "REF_3 The element \"Process/deployment/Deployment/validPeriod\" is discarded. Deployment's valid period is filled in based on maximum extent of existing data generations.\n",
      "REF_3 The element \"Process/deployment/Deployment/validPeriod\" is discarded. Deployment's valid period is filled in based on maximum extent of existing data generations.\n",
      "REF_3 The element \"Process/deployment/Deployment/validPeriod\" is discarded. Deployment's valid period is filled in based on maximum extent of existing data generations.\n",
      "REF_3 The element \"Process/deployment/Deployment/validPeriod\" is discarded. Deployment's valid period is filled in based on maximum extent of existing data generations.\n",
      "REF_3 The element \"Process/deployment/Deployment/validPeriod\" is discarded. Deployment's valid period is filled in based on maximum extent of existing data generations.\n",
      "REF_3 The element \"Process/deployment/Deployment/validPeriod\" is discarded. Deployment's valid period is filled in based on maximum extent of existing data generations.\n",
      "REF_3 The element \"Process/deployment/Deployment/validPeriod\" is discarded. Deployment's valid period is filled in based on maximum extent of existing data generations.\n",
      "REF_3 The element \"Process/deployment/Deployment/validPeriod\" is discarded. Deployment's valid period is filled in based on maximum extent of existing data generations.\n",
      "REF_3 The element \"Process/deployment/Deployment/validPeriod\" is discarded. Deployment's valid period is filled in based on maximum extent of existing data generations.\n",
      "REF_3 The element \"Process/deployment/Deployment/validPeriod\" is discarded. Deployment's valid period is filled in based on maximum extent of existing data generations.\n",
      "REF_3 The element \"Process/deployment/Deployment/validPeriod\" is discarded. Deployment's valid period is filled in based on maximum extent of existing data generations.\n",
      "REF_3 The element \"Process/deployment/Deployment/validPeriod\" is discarded. Deployment's valid period is filled in based on maximum extent of existing data generations.\n",
      "\n",
      "INFO:oscar_lib.oscar_client:status: VALID_XML_WITH_ERRORS_OR_WARNINGS message: upload ok, new id 196358 The list below is organized by section header and shows exceptions/issues – if any – that may have resulted from the processing of the XML (NB: Section headers are always displayed).\n",
      "# Facility with identifier \"0-20000-0-10309\"\n",
      "REF_3 The element \"Process/deployment/Deployment/validPeriod\" is discarded. Deployment's valid period is filled in based on maximum extent of existing data generations.\n",
      "REF_3 The element \"Process/deployment/Deployment/validPeriod\" is discarded. Deployment's valid period is filled in based on maximum extent of existing data generations.\n",
      "REF_3 The element \"Process/deployment/Deployment/validPeriod\" is discarded. Deployment's valid period is filled in based on maximum extent of existing data generations.\n",
      "REF_3 The element \"Process/deployment/Deployment/validPeriod\" is discarded. Deployment's valid period is filled in based on maximum extent of existing data generations.\n",
      "REF_3 The element \"Process/deployment/Deployment/validPeriod\" is discarded. Deployment's valid period is filled in based on maximum extent of existing data generations.\n",
      "REF_3 The element \"Process/deployment/Deployment/validPeriod\" is discarded. Deployment's valid period is filled in based on maximum extent of existing data generations.\n",
      "REF_3 The element \"Process/deployment/Deployment/validPeriod\" is discarded. Deployment's valid period is filled in based on maximum extent of existing data generations.\n",
      "REF_3 The element \"Process/deployment/Deployment/validPeriod\" is discarded. Deployment's valid period is filled in based on maximum extent of existing data generations.\n",
      "REF_3 The element \"Process/deployment/Deployment/validPeriod\" is discarded. Deployment's valid period is filled in based on maximum extent of existing data generations.\n",
      "REF_3 The element \"Process/deployment/Deployment/validPeriod\" is discarded. Deployment's valid period is filled in based on maximum extent of existing data generations.\n",
      "REF_3 The element \"Process/deployment/Deployment/validPeriod\" is discarded. Deployment's valid period is filled in based on maximum extent of existing data generations.\n",
      "REF_3 The element \"Process/deployment/Deployment/validPeriod\" is discarded. Deployment's valid period is filled in based on maximum extent of existing data generations.\n",
      "REF_3 The element \"Process/deployment/Deployment/validPeriod\" is discarded. Deployment's valid period is filled in based on maximum extent of existing data generations.\n",
      "REF_3 The element \"Process/deployment/Deployment/validPeriod\" is discarded. Deployment's valid period is filled in based on maximum extent of existing data generations.\n",
      "REF_3 The element \"Process/deployment/Deployment/validPeriod\" is discarded. Deployment's valid period is filled in based on maximum extent of existing data generations.\n",
      "REF_3 The element \"Process/deployment/Deployment/validPeriod\" is discarded. Deployment's valid period is filled in based on maximum extent of existing data generations.\n",
      "REF_3 The element \"Process/deployment/Deployment/validPeriod\" is discarded. Deployment's valid period is filled in based on maximum extent of existing data generations.\n",
      "REF_3 The element \"Process/deployment/Deployment/validPeriod\" is discarded. Deployment's valid period is filled in based on maximum extent of existing data generations.\n",
      "REF_3 The element \"Process/deployment/Deployment/validPeriod\" is discarded. Deployment's valid period is filled in based on maximum extent of existing data generations.\n",
      "REF_3 The element \"Process/deployment/Deployment/validPeriod\" is discarded. Deployment's valid period is filled in based on maximum extent of existing data generations.\n",
      "REF_3 The element \"Process/deployment/Deployment/validPeriod\" is discarded. Deployment's valid period is filled in based on maximum extent of existing data generations.\n",
      "REF_3 The element \"Process/deployment/Deployment/validPeriod\" is discarded. Deployment's valid period is filled in based on maximum extent of existing data generations.\n",
      " \n",
      "WARNING:oscar_lib.oscar_client:deprecated: use upload_XML instead\n"
     ]
    },
    {
     "name": "stdout",
     "output_type": "stream",
     "text": [
      "saved 0-20000-0-10309\n",
      "updating station 0-20000-0-10442\n",
      "validates ok\n"
     ]
    },
    {
     "name": "stderr",
     "output_type": "stream",
     "text": [
      "INFO:oscar_lib.oscar_client:upload ok, new id 196360 \n",
      "INFO:oscar_lib.oscar_client:status: SUCCESS message: upload ok, new id 196360  \n",
      "INFO:oscar_lib.oscar_client:upload ok, new id 196361 The list below is organized by section header and shows exceptions/issues – if any – that may have resulted from the processing of the XML (NB: Section headers are always displayed).\n",
      "# Facility with identifier \"0-20000-0-10442\"\n",
      "REF_3 The element \"Process/deployment/Deployment/validPeriod\" is discarded. Deployment's valid period is filled in based on maximum extent of existing data generations.\n",
      "REF_3 The element \"Process/deployment/Deployment/validPeriod\" is discarded. Deployment's valid period is filled in based on maximum extent of existing data generations.\n",
      "REF_3 The element \"Process/deployment/Deployment/validPeriod\" is discarded. Deployment's valid period is filled in based on maximum extent of existing data generations.\n",
      "REF_3 The element \"Process/deployment/Deployment/validPeriod\" is discarded. Deployment's valid period is filled in based on maximum extent of existing data generations.\n",
      "REF_3 The element \"Process/deployment/Deployment/validPeriod\" is discarded. Deployment's valid period is filled in based on maximum extent of existing data generations.\n",
      "REF_3 The element \"Process/deployment/Deployment/validPeriod\" is discarded. Deployment's valid period is filled in based on maximum extent of existing data generations.\n",
      "REF_3 The element \"Process/deployment/Deployment/validPeriod\" is discarded. Deployment's valid period is filled in based on maximum extent of existing data generations.\n",
      "REF_3 The element \"Process/deployment/Deployment/validPeriod\" is discarded. Deployment's valid period is filled in based on maximum extent of existing data generations.\n",
      "REF_3 The element \"Process/deployment/Deployment/validPeriod\" is discarded. Deployment's valid period is filled in based on maximum extent of existing data generations.\n",
      "REF_3 The element \"Process/deployment/Deployment/validPeriod\" is discarded. Deployment's valid period is filled in based on maximum extent of existing data generations.\n",
      "REF_3 The element \"Process/deployment/Deployment/validPeriod\" is discarded. Deployment's valid period is filled in based on maximum extent of existing data generations.\n",
      "REF_3 The element \"Process/deployment/Deployment/validPeriod\" is discarded. Deployment's valid period is filled in based on maximum extent of existing data generations.\n",
      "REF_3 The element \"Process/deployment/Deployment/validPeriod\" is discarded. Deployment's valid period is filled in based on maximum extent of existing data generations.\n",
      "REF_3 The element \"Process/deployment/Deployment/validPeriod\" is discarded. Deployment's valid period is filled in based on maximum extent of existing data generations.\n",
      "REF_3 The element \"Process/deployment/Deployment/validPeriod\" is discarded. Deployment's valid period is filled in based on maximum extent of existing data generations.\n",
      "REF_3 The element \"Process/deployment/Deployment/validPeriod\" is discarded. Deployment's valid period is filled in based on maximum extent of existing data generations.\n",
      "REF_3 The element \"Process/deployment/Deployment/validPeriod\" is discarded. Deployment's valid period is filled in based on maximum extent of existing data generations.\n",
      "REF_3 The element \"Process/deployment/Deployment/validPeriod\" is discarded. Deployment's valid period is filled in based on maximum extent of existing data generations.\n",
      "REF_3 The element \"Process/deployment/Deployment/validPeriod\" is discarded. Deployment's valid period is filled in based on maximum extent of existing data generations.\n",
      "REF_3 The element \"Process/deployment/Deployment/validPeriod\" is discarded. Deployment's valid period is filled in based on maximum extent of existing data generations.\n",
      "REF_3 The element \"Process/deployment/Deployment/validPeriod\" is discarded. Deployment's valid period is filled in based on maximum extent of existing data generations.\n",
      "\n",
      "INFO:oscar_lib.oscar_client:status: VALID_XML_WITH_ERRORS_OR_WARNINGS message: upload ok, new id 196361 The list below is organized by section header and shows exceptions/issues – if any – that may have resulted from the processing of the XML (NB: Section headers are always displayed).\n",
      "# Facility with identifier \"0-20000-0-10442\"\n",
      "REF_3 The element \"Process/deployment/Deployment/validPeriod\" is discarded. Deployment's valid period is filled in based on maximum extent of existing data generations.\n",
      "REF_3 The element \"Process/deployment/Deployment/validPeriod\" is discarded. Deployment's valid period is filled in based on maximum extent of existing data generations.\n",
      "REF_3 The element \"Process/deployment/Deployment/validPeriod\" is discarded. Deployment's valid period is filled in based on maximum extent of existing data generations.\n",
      "REF_3 The element \"Process/deployment/Deployment/validPeriod\" is discarded. Deployment's valid period is filled in based on maximum extent of existing data generations.\n",
      "REF_3 The element \"Process/deployment/Deployment/validPeriod\" is discarded. Deployment's valid period is filled in based on maximum extent of existing data generations.\n",
      "REF_3 The element \"Process/deployment/Deployment/validPeriod\" is discarded. Deployment's valid period is filled in based on maximum extent of existing data generations.\n",
      "REF_3 The element \"Process/deployment/Deployment/validPeriod\" is discarded. Deployment's valid period is filled in based on maximum extent of existing data generations.\n",
      "REF_3 The element \"Process/deployment/Deployment/validPeriod\" is discarded. Deployment's valid period is filled in based on maximum extent of existing data generations.\n",
      "REF_3 The element \"Process/deployment/Deployment/validPeriod\" is discarded. Deployment's valid period is filled in based on maximum extent of existing data generations.\n",
      "REF_3 The element \"Process/deployment/Deployment/validPeriod\" is discarded. Deployment's valid period is filled in based on maximum extent of existing data generations.\n",
      "REF_3 The element \"Process/deployment/Deployment/validPeriod\" is discarded. Deployment's valid period is filled in based on maximum extent of existing data generations.\n",
      "REF_3 The element \"Process/deployment/Deployment/validPeriod\" is discarded. Deployment's valid period is filled in based on maximum extent of existing data generations.\n",
      "REF_3 The element \"Process/deployment/Deployment/validPeriod\" is discarded. Deployment's valid period is filled in based on maximum extent of existing data generations.\n",
      "REF_3 The element \"Process/deployment/Deployment/validPeriod\" is discarded. Deployment's valid period is filled in based on maximum extent of existing data generations.\n",
      "REF_3 The element \"Process/deployment/Deployment/validPeriod\" is discarded. Deployment's valid period is filled in based on maximum extent of existing data generations.\n",
      "REF_3 The element \"Process/deployment/Deployment/validPeriod\" is discarded. Deployment's valid period is filled in based on maximum extent of existing data generations.\n",
      "REF_3 The element \"Process/deployment/Deployment/validPeriod\" is discarded. Deployment's valid period is filled in based on maximum extent of existing data generations.\n",
      "REF_3 The element \"Process/deployment/Deployment/validPeriod\" is discarded. Deployment's valid period is filled in based on maximum extent of existing data generations.\n",
      "REF_3 The element \"Process/deployment/Deployment/validPeriod\" is discarded. Deployment's valid period is filled in based on maximum extent of existing data generations.\n",
      "REF_3 The element \"Process/deployment/Deployment/validPeriod\" is discarded. Deployment's valid period is filled in based on maximum extent of existing data generations.\n",
      "REF_3 The element \"Process/deployment/Deployment/validPeriod\" is discarded. Deployment's valid period is filled in based on maximum extent of existing data generations.\n",
      " \n",
      "WARNING:oscar_lib.oscar_client:deprecated: use upload_XML instead\n"
     ]
    },
    {
     "name": "stdout",
     "output_type": "stream",
     "text": [
      "saved 0-20000-0-10442\n",
      "updating station 0-20000-0-10954\n",
      "validates ok\n"
     ]
    },
    {
     "name": "stderr",
     "output_type": "stream",
     "text": [
      "INFO:oscar_lib.oscar_client:upload failed with status: REJECTED the log is The list below is organized by section header and shows exceptions/issues – if any – that may have resulted from the processing of the XML (NB: Section headers are always displayed).\n",
      "REF_2: No inserts or updates have been made by the received XML: before resubmitting the file please read and then remove this comment at the top of the XML: \"The element wmdr:internationalExchange has been exported as 'false' (real value is 'null'). Before resubmitting this XML please remove this comment and review the value of wmdr:internationalExchange under wmdr:DataGeneration with gml:id id_2529129d-bf23-41fa-9edf-c2c34a0c4938, id_6976f092-bd7d-4fad-8b80-8998739ffb4a, id_88a28262-b7de-4993-b3c0-4c5d5bcfe129, id_64cdf214-387e-4311-a1c4-783d3739ff54, id_651bad2f-b0c3-4c4c-b4aa-8b32d95c5a55, id_b074e82a-68a7-7937-e053-148ef98d6de4, id_b074e82a-68a8-7937-e053-148ef98d6de4, id_b074e82a-68a9-7937-e053-148ef98d6de4, id_6de557d9-233a-4014-b101-6009d2eceaaa, id_251424f2-8e42-48c1-a26a-34945e60d5f4, id_f8bb3ff2-20c4-4380-badf-8f4ccbe052b5, id_c479cb75-5fcc-4be4-96da-e6748fc6f019, id_599a9dce-8cee-4ee2-8f93-d533bb5e40f8. Alternatively, insert the missing values directly from the user interface and export the updated station as WMDR XML.\"\n",
      "\n",
      "INFO:oscar_lib.oscar_client:status: REJECTED message: upload failed with status: REJECTED the log is The list below is organized by section header and shows exceptions/issues – if any – that may have resulted from the processing of the XML (NB: Section headers are always displayed).\n",
      "REF_2: No inserts or updates have been made by the received XML: before resubmitting the file please read and then remove this comment at the top of the XML: \"The element wmdr:internationalExchange has been exported as 'false' (real value is 'null'). Before resubmitting this XML please remove this comment and review the value of wmdr:internationalExchange under wmdr:DataGeneration with gml:id id_2529129d-bf23-41fa-9edf-c2c34a0c4938, id_6976f092-bd7d-4fad-8b80-8998739ffb4a, id_88a28262-b7de-4993-b3c0-4c5d5bcfe129, id_64cdf214-387e-4311-a1c4-783d3739ff54, id_651bad2f-b0c3-4c4c-b4aa-8b32d95c5a55, id_b074e82a-68a7-7937-e053-148ef98d6de4, id_b074e82a-68a8-7937-e053-148ef98d6de4, id_b074e82a-68a9-7937-e053-148ef98d6de4, id_6de557d9-233a-4014-b101-6009d2eceaaa, id_251424f2-8e42-48c1-a26a-34945e60d5f4, id_f8bb3ff2-20c4-4380-badf-8f4ccbe052b5, id_c479cb75-5fcc-4be4-96da-e6748fc6f019, id_599a9dce-8cee-4ee2-8f93-d533bb5e40f8. Alternatively, insert the missing values directly from the user interface and export the updated station as WMDR XML.\"\n",
      " \n",
      "WARNING:oscar_lib.oscar_client:deprecated: use upload_XML instead\n"
     ]
    },
    {
     "name": "stdout",
     "output_type": "stream",
     "text": [
      "station could not be saved: error saving original XML (REJECTED)\n",
      "updating station 0-20000-0-10520\n",
      "validates ok\n"
     ]
    },
    {
     "name": "stderr",
     "output_type": "stream",
     "text": [
      "INFO:oscar_lib.oscar_client:upload ok, new id 196363 \n",
      "INFO:oscar_lib.oscar_client:status: SUCCESS message: upload ok, new id 196363  \n",
      "INFO:oscar_lib.oscar_client:upload ok, new id 196364 The list below is organized by section header and shows exceptions/issues – if any – that may have resulted from the processing of the XML (NB: Section headers are always displayed).\n",
      "# Facility with identifier \"0-20000-0-10520\"\n",
      "REF_3 The element \"Process/deployment/Deployment/validPeriod\" is discarded. Deployment's valid period is filled in based on maximum extent of existing data generations.\n",
      "REF_3 The element \"Process/deployment/Deployment/validPeriod\" is discarded. Deployment's valid period is filled in based on maximum extent of existing data generations.\n",
      "REF_3 The element \"Process/deployment/Deployment/validPeriod\" is discarded. Deployment's valid period is filled in based on maximum extent of existing data generations.\n",
      "REF_3 The element \"Process/deployment/Deployment/validPeriod\" is discarded. Deployment's valid period is filled in based on maximum extent of existing data generations.\n",
      "REF_3 The element \"Process/deployment/Deployment/validPeriod\" is discarded. Deployment's valid period is filled in based on maximum extent of existing data generations.\n",
      "REF_3 The element \"Process/deployment/Deployment/validPeriod\" is discarded. Deployment's valid period is filled in based on maximum extent of existing data generations.\n",
      "REF_3 The element \"Process/deployment/Deployment/validPeriod\" is discarded. Deployment's valid period is filled in based on maximum extent of existing data generations.\n",
      "REF_3 The element \"Process/deployment/Deployment/validPeriod\" is discarded. Deployment's valid period is filled in based on maximum extent of existing data generations.\n",
      "REF_3 The element \"Process/deployment/Deployment/validPeriod\" is discarded. Deployment's valid period is filled in based on maximum extent of existing data generations.\n",
      "REF_3 The element \"Process/deployment/Deployment/validPeriod\" is discarded. Deployment's valid period is filled in based on maximum extent of existing data generations.\n",
      "REF_3 The element \"Process/deployment/Deployment/validPeriod\" is discarded. Deployment's valid period is filled in based on maximum extent of existing data generations.\n",
      "REF_3 The element \"Process/deployment/Deployment/validPeriod\" is discarded. Deployment's valid period is filled in based on maximum extent of existing data generations.\n",
      "REF_3 The element \"Process/deployment/Deployment/validPeriod\" is discarded. Deployment's valid period is filled in based on maximum extent of existing data generations.\n",
      "REF_3 The element \"Process/deployment/Deployment/validPeriod\" is discarded. Deployment's valid period is filled in based on maximum extent of existing data generations.\n",
      "REF_3 The element \"Process/deployment/Deployment/validPeriod\" is discarded. Deployment's valid period is filled in based on maximum extent of existing data generations.\n",
      "REF_3 The element \"Process/deployment/Deployment/validPeriod\" is discarded. Deployment's valid period is filled in based on maximum extent of existing data generations.\n",
      "REF_3 The element \"Process/deployment/Deployment/validPeriod\" is discarded. Deployment's valid period is filled in based on maximum extent of existing data generations.\n",
      "REF_3 The element \"Process/deployment/Deployment/validPeriod\" is discarded. Deployment's valid period is filled in based on maximum extent of existing data generations.\n",
      "REF_3 The element \"Process/deployment/Deployment/validPeriod\" is discarded. Deployment's valid period is filled in based on maximum extent of existing data generations.\n",
      "REF_3 The element \"Process/deployment/Deployment/validPeriod\" is discarded. Deployment's valid period is filled in based on maximum extent of existing data generations.\n",
      "\n",
      "INFO:oscar_lib.oscar_client:status: VALID_XML_WITH_ERRORS_OR_WARNINGS message: upload ok, new id 196364 The list below is organized by section header and shows exceptions/issues – if any – that may have resulted from the processing of the XML (NB: Section headers are always displayed).\n",
      "# Facility with identifier \"0-20000-0-10520\"\n",
      "REF_3 The element \"Process/deployment/Deployment/validPeriod\" is discarded. Deployment's valid period is filled in based on maximum extent of existing data generations.\n",
      "REF_3 The element \"Process/deployment/Deployment/validPeriod\" is discarded. Deployment's valid period is filled in based on maximum extent of existing data generations.\n",
      "REF_3 The element \"Process/deployment/Deployment/validPeriod\" is discarded. Deployment's valid period is filled in based on maximum extent of existing data generations.\n",
      "REF_3 The element \"Process/deployment/Deployment/validPeriod\" is discarded. Deployment's valid period is filled in based on maximum extent of existing data generations.\n",
      "REF_3 The element \"Process/deployment/Deployment/validPeriod\" is discarded. Deployment's valid period is filled in based on maximum extent of existing data generations.\n",
      "REF_3 The element \"Process/deployment/Deployment/validPeriod\" is discarded. Deployment's valid period is filled in based on maximum extent of existing data generations.\n",
      "REF_3 The element \"Process/deployment/Deployment/validPeriod\" is discarded. Deployment's valid period is filled in based on maximum extent of existing data generations.\n",
      "REF_3 The element \"Process/deployment/Deployment/validPeriod\" is discarded. Deployment's valid period is filled in based on maximum extent of existing data generations.\n",
      "REF_3 The element \"Process/deployment/Deployment/validPeriod\" is discarded. Deployment's valid period is filled in based on maximum extent of existing data generations.\n",
      "REF_3 The element \"Process/deployment/Deployment/validPeriod\" is discarded. Deployment's valid period is filled in based on maximum extent of existing data generations.\n",
      "REF_3 The element \"Process/deployment/Deployment/validPeriod\" is discarded. Deployment's valid period is filled in based on maximum extent of existing data generations.\n",
      "REF_3 The element \"Process/deployment/Deployment/validPeriod\" is discarded. Deployment's valid period is filled in based on maximum extent of existing data generations.\n",
      "REF_3 The element \"Process/deployment/Deployment/validPeriod\" is discarded. Deployment's valid period is filled in based on maximum extent of existing data generations.\n",
      "REF_3 The element \"Process/deployment/Deployment/validPeriod\" is discarded. Deployment's valid period is filled in based on maximum extent of existing data generations.\n",
      "REF_3 The element \"Process/deployment/Deployment/validPeriod\" is discarded. Deployment's valid period is filled in based on maximum extent of existing data generations.\n",
      "REF_3 The element \"Process/deployment/Deployment/validPeriod\" is discarded. Deployment's valid period is filled in based on maximum extent of existing data generations.\n",
      "REF_3 The element \"Process/deployment/Deployment/validPeriod\" is discarded. Deployment's valid period is filled in based on maximum extent of existing data generations.\n",
      "REF_3 The element \"Process/deployment/Deployment/validPeriod\" is discarded. Deployment's valid period is filled in based on maximum extent of existing data generations.\n",
      "REF_3 The element \"Process/deployment/Deployment/validPeriod\" is discarded. Deployment's valid period is filled in based on maximum extent of existing data generations.\n",
      "REF_3 The element \"Process/deployment/Deployment/validPeriod\" is discarded. Deployment's valid period is filled in based on maximum extent of existing data generations.\n",
      " \n"
     ]
    },
    {
     "name": "stdout",
     "output_type": "stream",
     "text": [
      "saved 0-20000-0-10520\n"
     ]
    }
   ],
   "source": [
    "for wigos_id,station in station_map.items():\n",
    "    print(\"updating station\",wigos_id)\n",
    "    \n",
    "    current_schedules = station.current_schedules() # get \"ongoing\" schedules\n",
    "    for current_schedule in current_schedules.values():\n",
    "        for d in current_schedule[\"deployments\"]:\n",
    "            for dg in d[\"datagenerations\"]:\n",
    "                gid=dg[\"gid\"]\n",
    "                schedule=dg[\"schedule\"]\n",
    "                \n",
    "                station.fix_and_update_datageneration(gid,defaultSchedule) \n",
    "\n",
    "    try:\n",
    "        station.validate()\n",
    "        print(\"validates ok\")\n",
    "    except: # if there are remaining validation issues\n",
    "        print(\"fixing remaining schedules\")\n",
    "        station.fix_deployments(mode=\"update\",defaultSchedule=defaultSchedule) #merge remaining eronous schedules\n",
    "\n",
    "    station.validate()\n",
    "    \n",
    "    try:\n",
    "        station.save(client)\n",
    "        print(\"saved\",wigos_id)\n",
    "    except Exception as e:\n",
    "        print(\"station could not be saved:\",e)\n",
    "    "
   ]
  },
  {
   "cell_type": "code",
   "execution_count": null,
   "metadata": {},
   "outputs": [],
   "source": []
  }
 ],
 "metadata": {
  "kernelspec": {
   "display_name": "Python 3",
   "language": "python",
   "name": "python3"
  },
  "language_info": {
   "codemirror_mode": {
    "name": "ipython",
    "version": 3
   },
   "file_extension": ".py",
   "mimetype": "text/x-python",
   "name": "python",
   "nbconvert_exporter": "python",
   "pygments_lexer": "ipython3",
   "version": "3.7.7"
  }
 },
 "nbformat": 4,
 "nbformat_minor": 2
}
