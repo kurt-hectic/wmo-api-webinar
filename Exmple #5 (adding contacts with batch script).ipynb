{
 "cells": [
  {
   "cell_type": "markdown",
   "metadata": {},
   "source": [
    "Adding contacts via script \n",
    "---\n",
    "> **Example #5:** We will assign a specific contact to a list of stations through the library. The list of stations was communicated to us in the form of traditional WMO indexes. I have verified that the contact already exists in OSCAR/Surface. Our task thus consists in downloading the stations from OSCAR/Surface, adding a new contact and re-uploading the station to send the change to OSCAR/Surface."
   ]
  },
  {
   "cell_type": "code",
   "execution_count": 1,
   "metadata": {},
   "outputs": [],
   "source": [
    "import json\n",
    "import sys\n",
    "import logging\n",
    "logging.basicConfig(level=logging.INFO)\n",
    "\n",
    "from oscar_lib import OscarClient, Station"
   ]
  },
  {
   "cell_type": "code",
   "execution_count": 2,
   "metadata": {},
   "outputs": [
    {
     "name": "stdout",
     "output_type": "stream",
     "text": [
      "['0-20000-0-89269', '0-20000-0-89324', '0-20000-0-89832', '0-20000-0-89834', '0-20000-0-89836', '0-20000-0-89828', '0-20000-0-89734', '0-20000-0-89873', '0-20000-0-89332', '0-20000-0-89872', '0-20000-0-89376', '0-20000-0-89329', '0-20000-0-89377', '0-20000-0-89864', '0-20000-0-89866', '0-20000-0-89869', '0-20000-0-89327', '0-20000-0-89799', '0-20000-0-89667', '0-20000-0-89643', '0-20000-0-89879', '0-20000-0-89744', '0-20000-0-89868', '0-20000-0-89345', '0-20000-0-89314', '0-20000-0-89865']\n"
     ]
    }
   ],
   "source": [
    "## removed 89598 and 89627 since validation errors. I processed these manually\n",
    "\n",
    "# copy and paste of ids from the email from Walter\n",
    "ids = \"\"\"\n",
    "89269\n",
    "89324\n",
    "89832\n",
    "89834\n",
    "89836\n",
    "89828\n",
    "89734\n",
    "89873\n",
    "89332\n",
    "89872\n",
    "89376\n",
    "89329\n",
    "89377\n",
    "89864\n",
    "89866\n",
    "89869\n",
    "89327\n",
    "89799\n",
    "89667\n",
    "89643\n",
    "89879\n",
    "89744\n",
    "89868\n",
    "89345\n",
    "89314\n",
    "89865\n",
    "\"\"\".split(\"\\n\")\n",
    "ids = [ \"0-20000-0-{}\".format(i) for i in ids if i] # generate wigos ids using list comprehension\n",
    "\n",
    "print(ids)"
   ]
  },
  {
   "cell_type": "code",
   "execution_count": null,
   "metadata": {},
   "outputs": [],
   "source": [
    "#client = OscarClient(OscarClient.OSCAR_DEPL,token=\"MY_DEPL_TOKEN\")\n",
    "client = OscarClient(OscarClient.OSCAR_DEFAULT,token=\"MY_PROD_TOKEN\")\n",
    "\n",
    "for wid in ids:\n",
    "    try:\n",
    "        xml = client.load_station(wigos_id=wid)\n",
    "        station = Station(xml)\n",
    "        station.add_existing_contact(email=\"mattl@ssec.wisc.edu\")\n",
    "        station.validate()\n",
    "        #client.upload_XML(str(station))\n",
    "        \n",
    "        print(wid,\" ok\")      \n",
    "        \n",
    "    except Exception as e:\n",
    "        print(\"issue with {} , {}\".format(wid,e))"
   ]
  }
 ],
 "metadata": {
  "kernelspec": {
   "display_name": "Python 3",
   "language": "python",
   "name": "python3"
  },
  "language_info": {
   "codemirror_mode": {
    "name": "ipython",
    "version": 3
   },
   "file_extension": ".py",
   "mimetype": "text/x-python",
   "name": "python",
   "nbconvert_exporter": "python",
   "pygments_lexer": "ipython3",
   "version": "3.7.7"
  }
 },
 "nbformat": 4,
 "nbformat_minor": 4
}
