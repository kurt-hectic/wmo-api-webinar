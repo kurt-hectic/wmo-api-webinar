{
 "cells": [
  {
   "cell_type": "code",
   "execution_count": 12,
   "metadata": {},
   "outputs": [],
   "source": [
    "# import the required libraries\n",
    "import requests, json"
   ]
  },
  {
   "cell_type": "code",
   "execution_count": 13,
   "metadata": {},
   "outputs": [],
   "source": [
    "# authentication via token\n",
    "headers = { 'X-WMO-WMDR-Token' : \"changeMe\" } # FIXME: update token\n",
    "# the WIGOS MD XML file we want to upload\n",
    "filename = './files/Blogstation1.xml' #FIXME: update filename"
   ]
  },
  {
   "cell_type": "code",
   "execution_count": 14,
   "metadata": {},
   "outputs": [],
   "source": [
    "def printLogs(log_id): # get log entries \n",
    "    log_response = requests.get(\"https://oscardepl.wmo.int/surface/rest/api/wmd/get-log/{log_id}\".format(log_id=log_id),\n",
    "                           headers=headers)\n",
    "    if log_response.status_code == 200:\n",
    "        print(\"log {}\".format(log_response.text))\n",
    "    else:\n",
    "        print(\"error: cannot retrieve log {status_code} \".format(status_code=log_response.status_code))          "
   ]
  },
  {
   "cell_type": "code",
   "execution_count": 19,
   "metadata": {
    "scrolled": true
   },
   "outputs": [
    {
     "name": "stdout",
     "output_type": "stream",
     "text": [
      "uploaded ok, new id 196343\n"
     ]
    }
   ],
   "source": [
    "with open(filename, 'r', encoding=\"utf8\") as content_file:\n",
    "    content = content_file.read()\n",
    "    response = requests.post('https://oscardepl.wmo.int/surface/rest/api/wmd/upload', data=content , headers=headers  )\n",
    "\n",
    "    if response.status_code ==  200:\n",
    "        # reponse:\n",
    "        response = json.loads(response.content)\n",
    "        if response[\"xmlStatus\"] == 'SUCCESS':\n",
    "            print(\"uploaded ok, new id {id}\".format(id=response[\"id\"]))\n",
    "        elif response[\"xmlStatus\"] == 'SUCCESS_WITH_WARNINGS':\n",
    "            print(\"uploaded ok, but with warnings. new id {id}\".format(id=response[\"id\"]))\n",
    "            printLogs( response[\"id\"] )\n",
    "        else:\n",
    "            print(\"upload failed.. the logs are: {logs}\".format(logs=response[\"logs\"]) )\n",
    "            printLogs( response[\"id\"] )\n",
    "        \n",
    "    else:\n",
    "        print(\"processing error on server side. status: {}  error: {}\".format(response.status_code,response.content))"
   ]
  },
  {
   "cell_type": "code",
   "execution_count": null,
   "metadata": {},
   "outputs": [],
   "source": []
  }
 ],
 "metadata": {
  "kernelspec": {
   "display_name": "Python 3",
   "language": "python",
   "name": "python3"
  },
  "language_info": {
   "codemirror_mode": {
    "name": "ipython",
    "version": 3
   },
   "file_extension": ".py",
   "mimetype": "text/x-python",
   "name": "python",
   "nbconvert_exporter": "python",
   "pygments_lexer": "ipython3",
   "version": "3.7.7"
  }
 },
 "nbformat": 4,
 "nbformat_minor": 2
}
